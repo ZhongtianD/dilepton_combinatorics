{
 "cells": [
  {
   "cell_type": "code",
   "execution_count": 1,
   "metadata": {},
   "outputs": [],
   "source": [
    "from tensorflow.keras.models import load_model\n",
    "from tensorflow.keras.preprocessing import sequence\n",
    "from tensorflow.keras.models import Sequential, Model\n",
    "from tensorflow.keras.layers import Input, Dense, Dropout, Activation, BatchNormalization\n",
    "from tensorflow.keras import optimizers\n",
    "from tensorflow.keras.callbacks import EarlyStopping , ModelCheckpoint\n",
    "\n",
    "from distutils.version import LooseVersion as LV \n",
    "from tensorflow.keras import __version__\n",
    "from tensorflow.keras import backend as K\n",
    "\n",
    "from IPython.display import SVG\n",
    "\n",
    "import tensorflow as tf\n",
    "\n",
    "import numpy as np\n",
    "from lbn import LBN, LBNLayer"
   ]
  },
  {
   "cell_type": "code",
   "execution_count": null,
   "metadata": {},
   "outputs": [],
   "source": [
    "data=np.load(\"../sample_data/detector_level.npy\")\n",
    "# data=np.load(\"../sample_data/parton_level.npy\")"
   ]
  },
  {
   "cell_type": "code",
   "execution_count": null,
   "metadata": {},
   "outputs": [],
   "source": [
    "# gpu=tf.config.experimental.list_physical_devices('GPU')\n",
    "# tf.config.experimental.set_memory_growth(gpu[0], True)"
   ]
  },
  {
   "cell_type": "code",
   "execution_count": null,
   "metadata": {},
   "outputs": [],
   "source": [
    "data_inv = data[:,[0, 1, 2, 3, 12, 13, 14, 15, 8, 9, 10, 11, 4, 5, 6, 7, 16, 17]]\n",
    "data = data[:,[0, 1, 2, 3, 4, 5, 6, 7, 8, 9, 10, 11, 12, 13, 14, 15, 16, 17]]\n",
    "data_inv = np.array(data_inv)\n",
    "label = np.ones(data.shape[0])\n",
    "label_inv = np.zeros(data_inv.shape[0])\n",
    "print (data.shape, data_inv.shape)"
   ]
  },
  {
   "cell_type": "code",
   "execution_count": null,
   "metadata": {},
   "outputs": [],
   "source": [
    "x_train, y_train = np.concatenate((data[:90000], data_inv[:90000])),np.concatenate((label[:90000], label_inv[:90000]))\n",
    "x_test, y_test = np.concatenate((data[90000:], data_inv[90000:])),np.concatenate((label[90000:], label_inv[90000:]))\n",
    "\n",
    "idx = np.arange(x_train.shape[0])\n",
    "np.random.shuffle(idx)\n",
    "x_train,y_train = x_train[idx], y_train[idx]\n",
    "x_train0=np.reshape(x_train[:,:16], (180000, 4,4))\n",
    "x_test0=np.reshape(x_test[:,:16], (20000, 4,4))\n",
    "x_train1 = np.concatenate((np.zeros((180000, 1)),x_train[:,16:],np.zeros((180000, 1))),axis=1).reshape(180000, 1,4)\n",
    "x_test1 = np.concatenate((np.zeros((20000, 1)),x_test[:,16:],np.zeros((20000, 1))),axis=1).reshape(20000, 1,4)\n",
    "x_train = np.concatenate((x_train0, x_train1),axis=1)\n",
    "x_test = np.concatenate((x_test0, x_test1),axis=1)\n",
    "print(x_train.shape,x_test.shape)"
   ]
  },
  {
   "cell_type": "code",
   "execution_count": 3,
   "metadata": {},
   "outputs": [
    {
     "name": "stdout",
     "output_type": "stream",
     "text": [
      "Model: \"sequential_1\"\n",
      "_________________________________________________________________\n",
      "Layer (type)                 Output Shape              Param #   \n",
      "=================================================================\n",
      "LBN (LBNLayer)               (None, 68)                80        \n",
      "_________________________________________________________________\n",
      "dense_3 (Dense)              (None, 512)               35328     \n",
      "_________________________________________________________________\n",
      "batch_normalization_2 (Batch (None, 512)               2048      \n",
      "_________________________________________________________________\n",
      "dropout_2 (Dropout)          (None, 512)               0         \n",
      "_________________________________________________________________\n",
      "dense_4 (Dense)              (None, 512)               262656    \n",
      "_________________________________________________________________\n",
      "batch_normalization_3 (Batch (None, 512)               2048      \n",
      "_________________________________________________________________\n",
      "dropout_3 (Dropout)          (None, 512)               0         \n",
      "_________________________________________________________________\n",
      "dense_5 (Dense)              (None, 1)                 513       \n",
      "=================================================================\n",
      "Total params: 302,673\n",
      "Trainable params: 300,625\n",
      "Non-trainable params: 2,048\n",
      "_________________________________________________________________\n",
      "None\n"
     ]
    }
   ],
   "source": [
    "feature_set = [\"E\", \"pt\", \"eta\", \"phi\", \"m\", \"pair_cos\"]\n",
    "# feature_set = [\"E\", \"px\", \"py\", \"pz\"]\n",
    "\n",
    "model = Sequential()\n",
    "\n",
    "model.add(LBNLayer(n_particles= 8, boost_mode=LBN.PAIRS,features=feature_set, input_shape=(5,4)))\n",
    "\n",
    "model.add(Dense(512, activation='relu'))\n",
    "model.add(BatchNormalization())\n",
    "model.add(Dropout(0.25))\n",
    "model.add(Dense(512, activation='relu'))\n",
    "model.add(BatchNormalization())\n",
    "model.add(Dropout(0.25))\n",
    "model.add(Dense(1, activation='sigmoid'))\n",
    "\n",
    "adam = optimizers.Adam(lr=0.001)\n",
    "\n",
    "model.compile(loss='binary_crossentropy',\n",
    "              optimizer=adam,\n",
    "              metrics=['accuracy'])\n",
    "print(model.summary())"
   ]
  },
  {
   "cell_type": "code",
   "execution_count": null,
   "metadata": {},
   "outputs": [],
   "source": [
    "mcp_save = ModelCheckpoint('templbn.h5', save_best_only=True, monitor='val_loss', mode='min')\n",
    "es = EarlyStopping(monitor='val_loss', verbose=1, patience=20)"
   ]
  },
  {
   "cell_type": "code",
   "execution_count": null,
   "metadata": {},
   "outputs": [],
   "source": [
    "history = model.fit(x_train, y_train, batch_size=256,\n",
    "          epochs=100, callbacks=[mcp_save, es],\n",
    "          validation_split=0.1)"
   ]
  },
  {
   "cell_type": "code",
   "execution_count": null,
   "metadata": {},
   "outputs": [],
   "source": [
    "model= load_model('templbn.h5', custom_objects={'LBNLayer': LBNLayer})\n",
    "scores = model.evaluate(x_test, y_test, verbose=2)\n",
    "print(\"%s: %.2f%%\" % (model.metrics_names[1], scores[1]*100),model.metrics_names[0], scores[0])"
   ]
  }
 ],
 "metadata": {
  "kernelspec": {
   "display_name": "Python 3",
   "language": "python",
   "name": "python3"
  },
  "language_info": {
   "codemirror_mode": {
    "name": "ipython",
    "version": 3
   },
   "file_extension": ".py",
   "mimetype": "text/x-python",
   "name": "python",
   "nbconvert_exporter": "python",
   "pygments_lexer": "ipython3",
   "version": "3.8.3"
  }
 },
 "nbformat": 4,
 "nbformat_minor": 4
}
